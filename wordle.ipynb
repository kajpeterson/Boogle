{
 "cells": [
  {
   "cell_type": "markdown",
   "id": "1105704d",
   "metadata": {},
   "source": [
    "Let's make Wordle."
   ]
  },
  {
   "cell_type": "code",
   "execution_count": null,
   "id": "f2c5d215",
   "metadata": {},
   "outputs": [],
   "source": [
    "import sys\n",
    "import pandas as pd\n",
    "import random"
   ]
  },
  {
   "cell_type": "code",
   "execution_count": null,
   "id": "3d8f465a",
   "metadata": {},
   "outputs": [],
   "source": [
    "#Random word generator\n",
    "filename = 'en_lower_61k_5let.csv'\n",
    "wordframe = pd.read_csv(filename, header = None)\n",
    "wordlist = list(wordframe[0])\n",
    "word = wordlist[random.randint(0,len(wordlist))]\n"
   ]
  },
  {
   "cell_type": "code",
   "execution_count": null,
   "id": "6e54f87e",
   "metadata": {},
   "outputs": [],
   "source": [
    "def display(guess_inputs, guess_outputs, in_set, out_set, untested_set):\n",
    "    print('\\n\\n')\n",
    "    for i in range (0,len(guess_inputs)):\n",
    "        print(f'{i+1}  {guess_inputs[i]}    {guess_outputs[i]}')\n",
    "    print(f'\\nIn: {in_set}\\nOut: {out_set}\\nUntested: {untested_set}')"
   ]
  },
  {
   "cell_type": "code",
   "execution_count": null,
   "id": "f934f5d5",
   "metadata": {},
   "outputs": [],
   "source": [
    "#Take guess & word\n",
    "#Return entry for guess_outputs\n",
    "\n",
    "def let_check(guess, word, in_set, out_set, untested_set):\n",
    "    letters = []\n",
    "    for i in range (0,5):\n",
    "        if guess[i] == word[i]:\n",
    "            letters.append(guess[i].upper())\n",
    "            in_set.add(guess[i])\n",
    "            try:\n",
    "                untested_set.remove(guess[i])\n",
    "            except:\n",
    "                pass\n",
    "        elif guess[i] in word:\n",
    "            letters.append(guess[i])\n",
    "            in_set.add(guess[i])\n",
    "            try:\n",
    "                untested_set.remove(guess[i])\n",
    "            except:\n",
    "                pass\n",
    "        else:\n",
    "            letters.append('_')\n",
    "            out_set.add(guess[i])\n",
    "            try:\n",
    "                untested_set.remove(guess[i])\n",
    "            except:\n",
    "                pass\n",
    "    guess_output = f'{letters[0]} {letters[1]} {letters[2]} {letters[3]} {letters[4]}'\n",
    "    return (guess_output, in_set, out_set, untested_set)"
   ]
  },
  {
   "cell_type": "code",
   "execution_count": 134,
   "id": "f1bb7ced",
   "metadata": {},
   "outputs": [],
   "source": [
    "def main():\n",
    "    print('Welcome to Wordle!\\nGuess the word in 6 tries.\\nCapital letters are correct, and in the correct position.\\nLower case letters are in the word, but not in that position.\\nA blank space means that letter is not in the word.\\nEnter Q at any time to quit.')\n",
    "    guess_inputs = []\n",
    "    guess_outputs = []\n",
    "    in_set = set()\n",
    "    out_set = set()\n",
    "    untested_set = {'a','b','c','d','e','f','g','h','i','j','k','l','m','n','o','p','q','r','s','t','u','v','w','x','y','z'}\n",
    "    while True:\n",
    "        guess = str(input(\"Guess the wordle\\n\")).lower()\n",
    "        if guess == 'q':\n",
    "            print(f'The word was {word}.')\n",
    "            break\n",
    "        elif guess in wordlist:\n",
    "            guess_inputs.append(guess)\n",
    "            (guess_output, in_set, out_set, untested_set) = let_check(guess, word, in_set, out_set, untested_set)\n",
    "            guess_outputs.append(guess_output)\n",
    "            display(guess_inputs, guess_outputs, in_set, out_set, untested_set)\n",
    "        else:\n",
    "            print('Nope, try again.\\n')\n",
    "\n",
    "        if guess == word:\n",
    "            print('\\n******************\\n* Yay, you win!! *\\n******************')\n",
    "            break\n",
    "        elif len(guess_inputs) == 6:\n",
    "            print(f'\\nOooh, tough break.\\nThe word was {word}.\\nBetter luck next time.')\n",
    "            break"
   ]
  },
  {
   "cell_type": "code",
   "execution_count": 135,
   "id": "8ac1d19c",
   "metadata": {},
   "outputs": [
    {
     "name": "stdout",
     "output_type": "stream",
     "text": [
      "Welcome to Wordle!\n",
      "Guess the word in 6 tries.\n",
      "Capital letters are correct, and in the correct position.\n",
      "Lower case letters are in the word, but not in that position.\n",
      "A blank space means that letter is not in the word.\n",
      "Enter Q at any time to quit.\n",
      "Guess the wordle\n",
      "arise\n",
      "\n",
      "\n",
      "\n",
      "1  arise    a r _ s e\n",
      "\n",
      "In: {'s', 'r', 'a', 'e'}\n",
      "Out: {'i'}\n",
      "Untested: {'n', 'l', 'b', 'u', 'm', 'o', 'd', 'w', 'q', 'v', 'p', 'x', 't', 'j', 'f', 'y', 'z', 'g', 'k', 'c', 'h'}\n",
      "Guess the wordle\n",
      "seran\n",
      "Nope, try again.\n",
      "\n",
      "Guess the wordle\n",
      "sears\n",
      "\n",
      "\n",
      "\n",
      "1  arise    a r _ s e\n",
      "2  sears    s E A R S\n",
      "\n",
      "In: {'s', 'r', 'a', 'e'}\n",
      "Out: {'i'}\n",
      "Untested: {'n', 'l', 'b', 'u', 'm', 'o', 'd', 'w', 'q', 'v', 'p', 'x', 't', 'j', 'f', 'y', 'z', 'g', 'k', 'c', 'h'}\n",
      "Guess the wordle\n",
      "tears\n",
      "\n",
      "\n",
      "\n",
      "1  arise    a r _ s e\n",
      "2  sears    s E A R S\n",
      "3  tears    _ E A R S\n",
      "\n",
      "In: {'s', 'r', 'a', 'e'}\n",
      "Out: {'t', 'i'}\n",
      "Untested: {'n', 'l', 'b', 'u', 'm', 'o', 'd', 'w', 'q', 'v', 'p', 'x', 'j', 'f', 'y', 'z', 'g', 'k', 'c', 'h'}\n",
      "Guess the wordle\n",
      "wears\n",
      "\n",
      "\n",
      "\n",
      "1  arise    a r _ s e\n",
      "2  sears    s E A R S\n",
      "3  tears    _ E A R S\n",
      "4  wears    W E A R S\n",
      "\n",
      "In: {'s', 'r', 'e', 'a', 'w'}\n",
      "Out: {'t', 'i'}\n",
      "Untested: {'n', 'l', 'b', 'u', 'm', 'o', 'd', 'q', 'v', 'p', 'x', 'j', 'f', 'y', 'z', 'g', 'k', 'c', 'h'}\n",
      "\n",
      "******************\n",
      "* Yay, you win!! *\n",
      "******************\n"
     ]
    }
   ],
   "source": [
    "main()"
   ]
  },
  {
   "cell_type": "code",
   "execution_count": null,
   "id": "c853f779",
   "metadata": {},
   "outputs": [],
   "source": []
  }
 ],
 "metadata": {
  "kernelspec": {
   "display_name": "Python 3 (ipykernel)",
   "language": "python",
   "name": "python3"
  },
  "language_info": {
   "codemirror_mode": {
    "name": "ipython",
    "version": 3
   },
   "file_extension": ".py",
   "mimetype": "text/x-python",
   "name": "python",
   "nbconvert_exporter": "python",
   "pygments_lexer": "ipython3",
   "version": "3.9.12"
  }
 },
 "nbformat": 4,
 "nbformat_minor": 5
}
